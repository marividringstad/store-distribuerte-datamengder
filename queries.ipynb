{
 "cells": [
  {
   "cell_type": "code",
   "execution_count": 7,
   "metadata": {},
   "outputs": [
    {
     "name": "stdout",
     "output_type": "stream",
     "text": [
      "Users: 182, Activities: 16048, Trackpoints: 9681756\n"
     ]
    }
   ],
   "source": [
    "#1. How many users, activities and trackpoints are there in the dataset (after it is inserted into the database).\n",
    "\n",
    "from DbConnector import DbConnector\n",
    "db = DbConnector() \n",
    "cursor = db.cursor\n",
    "\n",
    "cursor.execute(\"SELECT COUNT(*) FROM User\")\n",
    "num_users = cursor.fetchone()[0]\n",
    "\n",
    "cursor.execute(\"SELECT COUNT(*) FROM Activity\")\n",
    "num_activities = cursor.fetchone()[0]\n",
    "\n",
    "cursor.execute(\"SELECT COUNT(*) FROM TrackPoint\")\n",
    "num_trackpoints = cursor.fetchone()[0]\n",
    "\n",
    "print(f\"Users: {num_users}, Activities: {num_activities}, Trackpoints: {num_trackpoints}\")"
   ]
  },
  {
   "cell_type": "code",
   "execution_count": 10,
   "metadata": {},
   "outputs": [
    {
     "name": "stdout",
     "output_type": "stream",
     "text": [
      "Average number of activities per user: 92.7630\n"
     ]
    }
   ],
   "source": [
    "\n",
    "#2. Find the average number of activities per user.\n",
    "\n",
    "from DbConnector import DbConnector\n",
    "db = DbConnector() \n",
    "cursor = db.cursor\n",
    "\n",
    "cursor.execute(\"SELECT AVG(activity_count) FROM (SELECT COUNT(*) as activity_count FROM Activity GROUP BY user_id) as temp\")\n",
    "average_activities = cursor.fetchone()[0]\n",
    "\n",
    "print(f\"Average number of activities per user: {average_activities}\")\n",
    "\n"
   ]
  },
  {
   "cell_type": "code",
   "execution_count": 11,
   "metadata": {},
   "outputs": [
    {
     "name": "stdout",
     "output_type": "stream",
     "text": [
      "User ID: 128, Activity Count: 2102\n",
      "User ID: 153, Activity Count: 1793\n",
      "User ID: 25, Activity Count: 715\n",
      "User ID: 163, Activity Count: 704\n",
      "User ID: 62, Activity Count: 691\n",
      "User ID: 144, Activity Count: 563\n",
      "User ID: 41, Activity Count: 399\n",
      "User ID: 85, Activity Count: 364\n",
      "User ID: 4, Activity Count: 346\n",
      "User ID: 140, Activity Count: 345\n",
      "User ID: 167, Activity Count: 320\n",
      "User ID: 68, Activity Count: 280\n",
      "User ID: 17, Activity Count: 265\n",
      "User ID: 3, Activity Count: 261\n",
      "User ID: 14, Activity Count: 236\n",
      "User ID: 126, Activity Count: 215\n",
      "User ID: 30, Activity Count: 210\n",
      "User ID: 112, Activity Count: 208\n",
      "User ID: 11, Activity Count: 201\n",
      "User ID: 39, Activity Count: 198\n"
     ]
    }
   ],
   "source": [
    "#3. Find the top 20 users with the highest number of activities. \n",
    "\n",
    "cursor.execute(\"\"\"\n",
    "    SELECT user_id, COUNT(*) as activity_count\n",
    "    FROM Activity\n",
    "    GROUP BY user_id\n",
    "    ORDER BY activity_count DESC\n",
    "    LIMIT 20\n",
    "\"\"\")\n",
    "top_users = cursor.fetchall()\n",
    "\n",
    "for user in top_users:\n",
    "    print(f\"User ID: {user[0]}, Activity Count: {user[1]}\")"
   ]
  },
  {
   "cell_type": "code",
   "execution_count": 12,
   "metadata": {},
   "outputs": [
    {
     "name": "stdout",
     "output_type": "stream",
     "text": [
      "Users who have taken a taxi:\n",
      "10\n",
      "111\n",
      "114\n",
      "126\n",
      "128\n",
      "139\n",
      "153\n",
      "163\n",
      "167\n",
      "175\n",
      "21\n",
      "52\n",
      "56\n",
      "58\n",
      "62\n",
      "65\n",
      "78\n",
      "80\n",
      "84\n",
      "85\n",
      "98\n"
     ]
    }
   ],
   "source": [
    "#4. Find all users who have taken a taxi. \n",
    "\n",
    "cursor.execute(\"\"\"\n",
    "    SELECT DISTINCT user_id\n",
    "    FROM Activity\n",
    "    WHERE transportation_mode = 'taxi'\n",
    "\"\"\")\n",
    "taxi_users = cursor.fetchall()\n",
    "\n",
    "print(\"Users who have taken a taxi:\")\n",
    "for user in taxi_users:\n",
    "    print(user[0])"
   ]
  },
  {
   "cell_type": "code",
   "execution_count": 13,
   "metadata": {},
   "outputs": [
    {
     "name": "stdout",
     "output_type": "stream",
     "text": [
      "taxi: 125 activities\n",
      "walk: 1008 activities\n",
      "bus: 471 activities\n",
      "bike: 619 activities\n",
      "car: 493 activities\n",
      "run: 1 activities\n",
      "train: 2 activities\n",
      "subway: 190 activities\n",
      "airplane: 4 activities\n",
      "boat: 1 activities\n"
     ]
    }
   ],
   "source": [
    "#5. Find all types of transportation modes and count how many activities that are tagged with these transportation mode labels. Do not count the rows where the mode is null.\n",
    "cursor.execute(\"\"\"\n",
    "    SELECT transportation_mode, COUNT(*)\n",
    "    FROM Activity\n",
    "    WHERE transportation_mode IS NOT NULL\n",
    "    GROUP BY transportation_mode\n",
    "\"\"\")\n",
    "modes_count = cursor.fetchall()\n",
    "\n",
    "for mode, count in modes_count:\n",
    "    print(f\"{mode}: {count} activities\")"
   ]
  },
  {
   "cell_type": "code",
   "execution_count": 15,
   "metadata": {},
   "outputs": [
    {
     "name": "stdout",
     "output_type": "stream",
     "text": [
      "Year with the most activities: 2008 with 5895 activities\n"
     ]
    }
   ],
   "source": [
    "#6. a) Find the year with the most activities. \n",
    "\n",
    "cursor.execute(\"\"\"\n",
    "    SELECT YEAR(start_date_time) as year, COUNT(*) as activity_count\n",
    "    FROM Activity\n",
    "    GROUP BY year\n",
    "    ORDER BY activity_count DESC\n",
    "    LIMIT 1\n",
    "\"\"\")\n",
    "most_activities_year = cursor.fetchone()\n",
    "\n",
    "print(f\"Year with the most activities: {most_activities_year[0]} with {most_activities_year[1]} activities\")"
   ]
  },
  {
   "cell_type": "code",
   "execution_count": 19,
   "metadata": {},
   "outputs": [
    {
     "name": "stdout",
     "output_type": "stream",
     "text": [
      "Year with the most recorded hours: 2009 with 9165 hours\n"
     ]
    }
   ],
   "source": [
    "#6. b) Is this also the year with most recorded hours?\n",
    "\n",
    "cursor.execute(\"\"\"\n",
    "    SELECT YEAR(start_date_time) as year, SUM(TIMESTAMPDIFF(HOUR, start_date_time, end_date_time)) as total_hours\n",
    "    FROM Activity\n",
    "    GROUP BY year\n",
    "    ORDER BY total_hours DESC\n",
    "    LIMIT 1\n",
    "\"\"\")\n",
    "most_hours_year = cursor.fetchone()\n",
    "\n",
    "print(f\"Year with the most recorded hours: {most_hours_year[0]} with {most_hours_year[1]} hours\")"
   ]
  },
  {
   "cell_type": "code",
   "execution_count": 62,
   "metadata": {},
   "outputs": [
    {
     "name": "stdout",
     "output_type": "stream",
     "text": [
      "Total distance walked by user 112 in 2008: 305.8173753597801 km\n"
     ]
    }
   ],
   "source": [
    "#7. Find the total distance (in km) walked in 2008, by user with id=112.\n",
    "\n",
    "\n",
    "from DbConnector import DbConnector\n",
    "db = DbConnector() \n",
    "cursor = db.cursor\n",
    "\n",
    "import math\n",
    "from haversine import haversine, Unit\n",
    "#import haversine\n",
    "\n",
    "# Haversine formula to calculate distance between two latitude/longitude points\n",
    "#def haversine(lat1, lon1, lat2, lon2):\n",
    "    #R = 6371  # radius of Earth in kilometers\n",
    "    #dlat = math.radians(lat2 - lat1)\n",
    "    #dlon = math.radians(lon2 - lon1)\n",
    "    #a = math.sin(dlat / 2) * 2 + math.cos(math.radians(lat1)) * math.cos(math.radians(lat2)) * math.sin(dlon / 2) * 2\n",
    "    #c = 2 * math.atan2(math.sqrt(a), math.sqrt(1 - a))\n",
    "    #return R * c\n",
    "\n",
    "# Query to get all trackpoints for user 112 in 2008 for walking activities\n",
    "cursor.execute(\"\"\"\n",
    "    SELECT lat, lon\n",
    "    FROM TrackPoint\n",
    "    JOIN Activity ON TrackPoint.activity_id = Activity.id\n",
    "    WHERE Activity.user_id = 112 AND YEAR(Activity.start_date_time) = 2008 AND Activity.transportation_mode = 'walk'\n",
    "    ORDER BY TrackPoint.date_time\n",
    "\"\"\")\n",
    "trackpoints = cursor.fetchall()\n",
    "\n",
    "# Calculate total distance walked\n",
    "total_distance = 0\n",
    "for i in range(1, len(trackpoints)):\n",
    "    lat1, lon1 = trackpoints[i - 1]\n",
    "    lat2, lon2 = trackpoints[i]\n",
    "    total_distance += haversine((lat1, lon1), (lat2, lon2), unit=Unit.KILOMETERS)\n",
    "\n",
    "print(f\"Total distance walked by user 112 in 2008: {total_distance} km\")"
   ]
  },
  {
   "cell_type": "code",
   "execution_count": 63,
   "metadata": {},
   "outputs": [
    {
     "ename": "KeyboardInterrupt",
     "evalue": "",
     "output_type": "error",
     "traceback": [
      "\u001b[0;31m---------------------------------------------------------------------------\u001b[0m",
      "\u001b[0;31mKeyboardInterrupt\u001b[0m                         Traceback (most recent call last)",
      "Cell \u001b[0;32mIn[63], line 7\u001b[0m\n\u001b[1;32m      3\u001b[0m db \u001b[38;5;241m=\u001b[39m DbConnector() \n\u001b[1;32m      4\u001b[0m cursor \u001b[38;5;241m=\u001b[39m db\u001b[38;5;241m.\u001b[39mcursor\n\u001b[0;32m----> 7\u001b[0m \u001b[43mcursor\u001b[49m\u001b[38;5;241;43m.\u001b[39;49m\u001b[43mexecute\u001b[49m\u001b[43m(\u001b[49m\u001b[38;5;124;43m\"\"\"\u001b[39;49m\n\u001b[1;32m      8\u001b[0m \u001b[38;5;124;43m    SELECT user_id, SUM(altitude_gain) as total_gain\u001b[39;49m\n\u001b[1;32m      9\u001b[0m \u001b[38;5;124;43m    FROM (\u001b[39;49m\n\u001b[1;32m     10\u001b[0m \u001b[38;5;124;43m        SELECT user_id, GREATEST(0, altitude - LAG(altitude) OVER (PARTITION BY activity_id ORDER BY date_time)) as altitude_gain\u001b[39;49m\n\u001b[1;32m     11\u001b[0m \u001b[38;5;124;43m        FROM TrackPoint\u001b[39;49m\n\u001b[1;32m     12\u001b[0m \u001b[38;5;124;43m        JOIN Activity ON TrackPoint.activity_id = Activity.id\u001b[39;49m\n\u001b[1;32m     13\u001b[0m \u001b[38;5;124;43m        WHERE altitude >0\u001b[39;49m\n\u001b[1;32m     14\u001b[0m \u001b[38;5;124;43m    ) as temp\u001b[39;49m\n\u001b[1;32m     15\u001b[0m \u001b[38;5;124;43m    GROUP BY user_id\u001b[39;49m\n\u001b[1;32m     16\u001b[0m \u001b[38;5;124;43m    ORDER BY total_gain DESC\u001b[39;49m\n\u001b[1;32m     17\u001b[0m \u001b[38;5;124;43m    LIMIT 20\u001b[39;49m\n\u001b[1;32m     18\u001b[0m \u001b[38;5;124;43m\"\"\"\u001b[39;49m\u001b[43m)\u001b[49m\n\u001b[1;32m     19\u001b[0m altitude_users \u001b[38;5;241m=\u001b[39m cursor\u001b[38;5;241m.\u001b[39mfetchall()\n\u001b[1;32m     21\u001b[0m \u001b[38;5;28mprint\u001b[39m(\u001b[38;5;124m\"\u001b[39m\u001b[38;5;124mTop 20 users by altitude gain:\u001b[39m\u001b[38;5;124m\"\u001b[39m)\n",
      "File \u001b[0;32m/Library/Frameworks/Python.framework/Versions/3.12/lib/python3.12/site-packages/mysql/connector/cursor.py:615\u001b[0m, in \u001b[0;36mMySQLCursor.execute\u001b[0;34m(self, operation, params, multi)\u001b[0m\n\u001b[1;32m    612\u001b[0m     \u001b[38;5;28;01mreturn\u001b[39;00m \u001b[38;5;28mself\u001b[39m\u001b[38;5;241m.\u001b[39m_execute_iter(\u001b[38;5;28mself\u001b[39m\u001b[38;5;241m.\u001b[39m_connection\u001b[38;5;241m.\u001b[39mcmd_query_iter(stmt))\n\u001b[1;32m    614\u001b[0m \u001b[38;5;28;01mtry\u001b[39;00m:\n\u001b[0;32m--> 615\u001b[0m     \u001b[38;5;28mself\u001b[39m\u001b[38;5;241m.\u001b[39m_handle_result(\u001b[38;5;28;43mself\u001b[39;49m\u001b[38;5;241;43m.\u001b[39;49m\u001b[43m_connection\u001b[49m\u001b[38;5;241;43m.\u001b[39;49m\u001b[43mcmd_query\u001b[49m\u001b[43m(\u001b[49m\u001b[43mstmt\u001b[49m\u001b[43m)\u001b[49m)\n\u001b[1;32m    616\u001b[0m \u001b[38;5;28;01mexcept\u001b[39;00m InterfaceError \u001b[38;5;28;01mas\u001b[39;00m err:\n\u001b[1;32m    617\u001b[0m     \u001b[38;5;28;01mif\u001b[39;00m \u001b[38;5;28mself\u001b[39m\u001b[38;5;241m.\u001b[39m_connection\u001b[38;5;241m.\u001b[39mhave_next_result:\n",
      "File \u001b[0;32m/Library/Frameworks/Python.framework/Versions/3.12/lib/python3.12/site-packages/mysql/connector/connection.py:1046\u001b[0m, in \u001b[0;36mMySQLConnection.cmd_query\u001b[0;34m(self, query, raw, buffered, raw_as_string)\u001b[0m\n\u001b[1;32m   1044\u001b[0m query \u001b[38;5;241m=\u001b[39m \u001b[38;5;28mbytes\u001b[39m(packet)\n\u001b[1;32m   1045\u001b[0m \u001b[38;5;28;01mtry\u001b[39;00m:\n\u001b[0;32m-> 1046\u001b[0m     result \u001b[38;5;241m=\u001b[39m \u001b[38;5;28mself\u001b[39m\u001b[38;5;241m.\u001b[39m_handle_result(\u001b[38;5;28;43mself\u001b[39;49m\u001b[38;5;241;43m.\u001b[39;49m\u001b[43m_send_cmd\u001b[49m\u001b[43m(\u001b[49m\u001b[43mServerCmd\u001b[49m\u001b[38;5;241;43m.\u001b[39;49m\u001b[43mQUERY\u001b[49m\u001b[43m,\u001b[49m\u001b[43m \u001b[49m\u001b[43mquery\u001b[49m\u001b[43m)\u001b[49m)\n\u001b[1;32m   1047\u001b[0m \u001b[38;5;28;01mexcept\u001b[39;00m ProgrammingError \u001b[38;5;28;01mas\u001b[39;00m err:\n\u001b[1;32m   1048\u001b[0m     \u001b[38;5;28;01mif\u001b[39;00m err\u001b[38;5;241m.\u001b[39merrno \u001b[38;5;241m==\u001b[39m \u001b[38;5;241m3948\u001b[39m \u001b[38;5;129;01mand\u001b[39;00m \u001b[38;5;124m\"\u001b[39m\u001b[38;5;124mLoading local data is disabled\u001b[39m\u001b[38;5;124m\"\u001b[39m \u001b[38;5;129;01min\u001b[39;00m err\u001b[38;5;241m.\u001b[39mmsg:\n",
      "File \u001b[0;32m/Library/Frameworks/Python.framework/Versions/3.12/lib/python3.12/site-packages/mysql/connector/connection.py:667\u001b[0m, in \u001b[0;36mMySQLConnection._send_cmd\u001b[0;34m(self, command, argument, packet_number, packet, expect_response, compressed_packet_number)\u001b[0m\n\u001b[1;32m    665\u001b[0m \u001b[38;5;28;01mif\u001b[39;00m \u001b[38;5;129;01mnot\u001b[39;00m expect_response:\n\u001b[1;32m    666\u001b[0m     \u001b[38;5;28;01mreturn\u001b[39;00m \u001b[38;5;28;01mNone\u001b[39;00m\n\u001b[0;32m--> 667\u001b[0m \u001b[38;5;28;01mreturn\u001b[39;00m \u001b[38;5;28;43mself\u001b[39;49m\u001b[38;5;241;43m.\u001b[39;49m\u001b[43m_socket\u001b[49m\u001b[38;5;241;43m.\u001b[39;49m\u001b[43mrecv\u001b[49m\u001b[43m(\u001b[49m\u001b[43m)\u001b[49m\n",
      "File \u001b[0;32m/Library/Frameworks/Python.framework/Versions/3.12/lib/python3.12/site-packages/mysql/connector/network.py:270\u001b[0m, in \u001b[0;36mBaseMySQLSocket.recv_plain\u001b[0;34m(self)\u001b[0m\n\u001b[1;32m    268\u001b[0m packet_len \u001b[38;5;241m=\u001b[39m \u001b[38;5;241m0\u001b[39m\n\u001b[1;32m    269\u001b[0m \u001b[38;5;28;01mwhile\u001b[39;00m packet_len \u001b[38;5;241m<\u001b[39m \u001b[38;5;241m4\u001b[39m:\n\u001b[0;32m--> 270\u001b[0m     chunk \u001b[38;5;241m=\u001b[39m \u001b[38;5;28;43mself\u001b[39;49m\u001b[38;5;241;43m.\u001b[39;49m\u001b[43msock\u001b[49m\u001b[38;5;241;43m.\u001b[39;49m\u001b[43mrecv\u001b[49m\u001b[43m(\u001b[49m\u001b[38;5;241;43m4\u001b[39;49m\u001b[43m \u001b[49m\u001b[38;5;241;43m-\u001b[39;49m\u001b[43m \u001b[49m\u001b[43mpacket_len\u001b[49m\u001b[43m)\u001b[49m\n\u001b[1;32m    271\u001b[0m     \u001b[38;5;28;01mif\u001b[39;00m \u001b[38;5;129;01mnot\u001b[39;00m chunk:\n\u001b[1;32m    272\u001b[0m         \u001b[38;5;28;01mraise\u001b[39;00m InterfaceError(errno\u001b[38;5;241m=\u001b[39m\u001b[38;5;241m2013\u001b[39m)\n",
      "File \u001b[0;32m/Library/Frameworks/Python.framework/Versions/3.12/lib/python3.12/ssl.py:1233\u001b[0m, in \u001b[0;36mSSLSocket.recv\u001b[0;34m(self, buflen, flags)\u001b[0m\n\u001b[1;32m   1229\u001b[0m     \u001b[38;5;28;01mif\u001b[39;00m flags \u001b[38;5;241m!=\u001b[39m \u001b[38;5;241m0\u001b[39m:\n\u001b[1;32m   1230\u001b[0m         \u001b[38;5;28;01mraise\u001b[39;00m \u001b[38;5;167;01mValueError\u001b[39;00m(\n\u001b[1;32m   1231\u001b[0m             \u001b[38;5;124m\"\u001b[39m\u001b[38;5;124mnon-zero flags not allowed in calls to recv() on \u001b[39m\u001b[38;5;132;01m%s\u001b[39;00m\u001b[38;5;124m\"\u001b[39m \u001b[38;5;241m%\u001b[39m\n\u001b[1;32m   1232\u001b[0m             \u001b[38;5;28mself\u001b[39m\u001b[38;5;241m.\u001b[39m\u001b[38;5;18m__class__\u001b[39m)\n\u001b[0;32m-> 1233\u001b[0m     \u001b[38;5;28;01mreturn\u001b[39;00m \u001b[38;5;28;43mself\u001b[39;49m\u001b[38;5;241;43m.\u001b[39;49m\u001b[43mread\u001b[49m\u001b[43m(\u001b[49m\u001b[43mbuflen\u001b[49m\u001b[43m)\u001b[49m\n\u001b[1;32m   1234\u001b[0m \u001b[38;5;28;01melse\u001b[39;00m:\n\u001b[1;32m   1235\u001b[0m     \u001b[38;5;28;01mreturn\u001b[39;00m \u001b[38;5;28msuper\u001b[39m()\u001b[38;5;241m.\u001b[39mrecv(buflen, flags)\n",
      "File \u001b[0;32m/Library/Frameworks/Python.framework/Versions/3.12/lib/python3.12/ssl.py:1106\u001b[0m, in \u001b[0;36mSSLSocket.read\u001b[0;34m(self, len, buffer)\u001b[0m\n\u001b[1;32m   1104\u001b[0m         \u001b[38;5;28;01mreturn\u001b[39;00m \u001b[38;5;28mself\u001b[39m\u001b[38;5;241m.\u001b[39m_sslobj\u001b[38;5;241m.\u001b[39mread(\u001b[38;5;28mlen\u001b[39m, buffer)\n\u001b[1;32m   1105\u001b[0m     \u001b[38;5;28;01melse\u001b[39;00m:\n\u001b[0;32m-> 1106\u001b[0m         \u001b[38;5;28;01mreturn\u001b[39;00m \u001b[38;5;28;43mself\u001b[39;49m\u001b[38;5;241;43m.\u001b[39;49m\u001b[43m_sslobj\u001b[49m\u001b[38;5;241;43m.\u001b[39;49m\u001b[43mread\u001b[49m\u001b[43m(\u001b[49m\u001b[38;5;28;43mlen\u001b[39;49m\u001b[43m)\u001b[49m\n\u001b[1;32m   1107\u001b[0m \u001b[38;5;28;01mexcept\u001b[39;00m SSLError \u001b[38;5;28;01mas\u001b[39;00m x:\n\u001b[1;32m   1108\u001b[0m     \u001b[38;5;28;01mif\u001b[39;00m x\u001b[38;5;241m.\u001b[39margs[\u001b[38;5;241m0\u001b[39m] \u001b[38;5;241m==\u001b[39m SSL_ERROR_EOF \u001b[38;5;129;01mand\u001b[39;00m \u001b[38;5;28mself\u001b[39m\u001b[38;5;241m.\u001b[39msuppress_ragged_eofs:\n",
      "\u001b[0;31mKeyboardInterrupt\u001b[0m: "
     ]
    }
   ],
   "source": [
    "#8. Find the top 20 users who have gained the most altitude meters.\n",
    "from DbConnector import DbConnector\n",
    "db = DbConnector() \n",
    "cursor = db.cursor\n",
    "\n",
    "\n",
    "cursor.execute(\"\"\"\n",
    "    SELECT user_id, SUM(altitude_gain) as total_gain\n",
    "    FROM (\n",
    "        SELECT user_id, GREATEST(0, altitude - LAG(altitude) OVER (PARTITION BY activity_id ORDER BY date_time)) as altitude_gain\n",
    "        FROM TrackPoint\n",
    "        JOIN Activity ON TrackPoint.activity_id = Activity.id\n",
    "        WHERE altitude >0\n",
    "    ) as temp\n",
    "    GROUP BY user_id\n",
    "    ORDER BY total_gain DESC\n",
    "    LIMIT 20\n",
    "\"\"\")\n",
    "altitude_users = cursor.fetchall()\n",
    "\n",
    "print(\"Top 20 users by altitude gain:\")\n",
    "for user in altitude_users:\n",
    "    print(f\"User ID: {user[0]}, Total Altitude Gain: {user[1]}\")"
   ]
  },
  {
   "cell_type": "code",
   "execution_count": 54,
   "metadata": {},
   "outputs": [
    {
     "ename": "KeyboardInterrupt",
     "evalue": "",
     "output_type": "error",
     "traceback": [
      "\u001b[0;31m---------------------------------------------------------------------------\u001b[0m",
      "\u001b[0;31mKeyboardInterrupt\u001b[0m                         Traceback (most recent call last)",
      "Cell \u001b[0;32mIn[54], line 3\u001b[0m\n\u001b[1;32m      1\u001b[0m \u001b[38;5;66;03m#9. Find all users who have invalid activities, and the number of invalid activities per user\u001b[39;00m\n\u001b[0;32m----> 3\u001b[0m \u001b[43mcursor\u001b[49m\u001b[38;5;241;43m.\u001b[39;49m\u001b[43mexecute\u001b[49m\u001b[43m(\u001b[49m\u001b[38;5;124;43m\"\"\"\u001b[39;49m\n\u001b[1;32m      4\u001b[0m \u001b[38;5;124;43m    SELECT user_id, COUNT(DISTINCT activity_id) as invalid_activities\u001b[39;49m\n\u001b[1;32m      5\u001b[0m \u001b[38;5;124;43m    FROM (\u001b[39;49m\n\u001b[1;32m      6\u001b[0m \u001b[38;5;124;43m        SELECT user_id, activity_id, TIMESTAMPDIFF(SECOND, LAG(date_time) OVER (PARTITION BY activity_id ORDER BY date_time), date_time) as time_diff\u001b[39;49m\n\u001b[1;32m      7\u001b[0m \u001b[38;5;124;43m        FROM TrackPoint\u001b[39;49m\n\u001b[1;32m      8\u001b[0m \u001b[38;5;124;43m    ) as temp\u001b[39;49m\n\u001b[1;32m      9\u001b[0m \u001b[38;5;124;43m    WHERE time_diff > 300\u001b[39;49m\n\u001b[1;32m     10\u001b[0m \u001b[38;5;124;43m    GROUP BY user_id\u001b[39;49m\n\u001b[1;32m     11\u001b[0m \u001b[38;5;124;43m\"\"\"\u001b[39;49m\u001b[43m)\u001b[49m\n\u001b[1;32m     12\u001b[0m invalid_activities_per_user \u001b[38;5;241m=\u001b[39m cursor\u001b[38;5;241m.\u001b[39mfetchall()\n\u001b[1;32m     14\u001b[0m \u001b[38;5;28mprint\u001b[39m(\u001b[38;5;124m\"\u001b[39m\u001b[38;5;124mUsers with invalid activities and the number of invalid activities:\u001b[39m\u001b[38;5;124m\"\u001b[39m)\n",
      "File \u001b[0;32m/Library/Frameworks/Python.framework/Versions/3.12/lib/python3.12/site-packages/mysql/connector/cursor.py:615\u001b[0m, in \u001b[0;36mMySQLCursor.execute\u001b[0;34m(self, operation, params, multi)\u001b[0m\n\u001b[1;32m    612\u001b[0m     \u001b[38;5;28;01mreturn\u001b[39;00m \u001b[38;5;28mself\u001b[39m\u001b[38;5;241m.\u001b[39m_execute_iter(\u001b[38;5;28mself\u001b[39m\u001b[38;5;241m.\u001b[39m_connection\u001b[38;5;241m.\u001b[39mcmd_query_iter(stmt))\n\u001b[1;32m    614\u001b[0m \u001b[38;5;28;01mtry\u001b[39;00m:\n\u001b[0;32m--> 615\u001b[0m     \u001b[38;5;28mself\u001b[39m\u001b[38;5;241m.\u001b[39m_handle_result(\u001b[38;5;28;43mself\u001b[39;49m\u001b[38;5;241;43m.\u001b[39;49m\u001b[43m_connection\u001b[49m\u001b[38;5;241;43m.\u001b[39;49m\u001b[43mcmd_query\u001b[49m\u001b[43m(\u001b[49m\u001b[43mstmt\u001b[49m\u001b[43m)\u001b[49m)\n\u001b[1;32m    616\u001b[0m \u001b[38;5;28;01mexcept\u001b[39;00m InterfaceError \u001b[38;5;28;01mas\u001b[39;00m err:\n\u001b[1;32m    617\u001b[0m     \u001b[38;5;28;01mif\u001b[39;00m \u001b[38;5;28mself\u001b[39m\u001b[38;5;241m.\u001b[39m_connection\u001b[38;5;241m.\u001b[39mhave_next_result:\n",
      "File \u001b[0;32m/Library/Frameworks/Python.framework/Versions/3.12/lib/python3.12/site-packages/mysql/connector/connection.py:1046\u001b[0m, in \u001b[0;36mMySQLConnection.cmd_query\u001b[0;34m(self, query, raw, buffered, raw_as_string)\u001b[0m\n\u001b[1;32m   1044\u001b[0m query \u001b[38;5;241m=\u001b[39m \u001b[38;5;28mbytes\u001b[39m(packet)\n\u001b[1;32m   1045\u001b[0m \u001b[38;5;28;01mtry\u001b[39;00m:\n\u001b[0;32m-> 1046\u001b[0m     result \u001b[38;5;241m=\u001b[39m \u001b[38;5;28mself\u001b[39m\u001b[38;5;241m.\u001b[39m_handle_result(\u001b[38;5;28;43mself\u001b[39;49m\u001b[38;5;241;43m.\u001b[39;49m\u001b[43m_send_cmd\u001b[49m\u001b[43m(\u001b[49m\u001b[43mServerCmd\u001b[49m\u001b[38;5;241;43m.\u001b[39;49m\u001b[43mQUERY\u001b[49m\u001b[43m,\u001b[49m\u001b[43m \u001b[49m\u001b[43mquery\u001b[49m\u001b[43m)\u001b[49m)\n\u001b[1;32m   1047\u001b[0m \u001b[38;5;28;01mexcept\u001b[39;00m ProgrammingError \u001b[38;5;28;01mas\u001b[39;00m err:\n\u001b[1;32m   1048\u001b[0m     \u001b[38;5;28;01mif\u001b[39;00m err\u001b[38;5;241m.\u001b[39merrno \u001b[38;5;241m==\u001b[39m \u001b[38;5;241m3948\u001b[39m \u001b[38;5;129;01mand\u001b[39;00m \u001b[38;5;124m\"\u001b[39m\u001b[38;5;124mLoading local data is disabled\u001b[39m\u001b[38;5;124m\"\u001b[39m \u001b[38;5;129;01min\u001b[39;00m err\u001b[38;5;241m.\u001b[39mmsg:\n",
      "File \u001b[0;32m/Library/Frameworks/Python.framework/Versions/3.12/lib/python3.12/site-packages/mysql/connector/connection.py:667\u001b[0m, in \u001b[0;36mMySQLConnection._send_cmd\u001b[0;34m(self, command, argument, packet_number, packet, expect_response, compressed_packet_number)\u001b[0m\n\u001b[1;32m    665\u001b[0m \u001b[38;5;28;01mif\u001b[39;00m \u001b[38;5;129;01mnot\u001b[39;00m expect_response:\n\u001b[1;32m    666\u001b[0m     \u001b[38;5;28;01mreturn\u001b[39;00m \u001b[38;5;28;01mNone\u001b[39;00m\n\u001b[0;32m--> 667\u001b[0m \u001b[38;5;28;01mreturn\u001b[39;00m \u001b[38;5;28;43mself\u001b[39;49m\u001b[38;5;241;43m.\u001b[39;49m\u001b[43m_socket\u001b[49m\u001b[38;5;241;43m.\u001b[39;49m\u001b[43mrecv\u001b[49m\u001b[43m(\u001b[49m\u001b[43m)\u001b[49m\n",
      "File \u001b[0;32m/Library/Frameworks/Python.framework/Versions/3.12/lib/python3.12/site-packages/mysql/connector/network.py:270\u001b[0m, in \u001b[0;36mBaseMySQLSocket.recv_plain\u001b[0;34m(self)\u001b[0m\n\u001b[1;32m    268\u001b[0m packet_len \u001b[38;5;241m=\u001b[39m \u001b[38;5;241m0\u001b[39m\n\u001b[1;32m    269\u001b[0m \u001b[38;5;28;01mwhile\u001b[39;00m packet_len \u001b[38;5;241m<\u001b[39m \u001b[38;5;241m4\u001b[39m:\n\u001b[0;32m--> 270\u001b[0m     chunk \u001b[38;5;241m=\u001b[39m \u001b[38;5;28;43mself\u001b[39;49m\u001b[38;5;241;43m.\u001b[39;49m\u001b[43msock\u001b[49m\u001b[38;5;241;43m.\u001b[39;49m\u001b[43mrecv\u001b[49m\u001b[43m(\u001b[49m\u001b[38;5;241;43m4\u001b[39;49m\u001b[43m \u001b[49m\u001b[38;5;241;43m-\u001b[39;49m\u001b[43m \u001b[49m\u001b[43mpacket_len\u001b[49m\u001b[43m)\u001b[49m\n\u001b[1;32m    271\u001b[0m     \u001b[38;5;28;01mif\u001b[39;00m \u001b[38;5;129;01mnot\u001b[39;00m chunk:\n\u001b[1;32m    272\u001b[0m         \u001b[38;5;28;01mraise\u001b[39;00m InterfaceError(errno\u001b[38;5;241m=\u001b[39m\u001b[38;5;241m2013\u001b[39m)\n",
      "File \u001b[0;32m/Library/Frameworks/Python.framework/Versions/3.12/lib/python3.12/ssl.py:1233\u001b[0m, in \u001b[0;36mSSLSocket.recv\u001b[0;34m(self, buflen, flags)\u001b[0m\n\u001b[1;32m   1229\u001b[0m     \u001b[38;5;28;01mif\u001b[39;00m flags \u001b[38;5;241m!=\u001b[39m \u001b[38;5;241m0\u001b[39m:\n\u001b[1;32m   1230\u001b[0m         \u001b[38;5;28;01mraise\u001b[39;00m \u001b[38;5;167;01mValueError\u001b[39;00m(\n\u001b[1;32m   1231\u001b[0m             \u001b[38;5;124m\"\u001b[39m\u001b[38;5;124mnon-zero flags not allowed in calls to recv() on \u001b[39m\u001b[38;5;132;01m%s\u001b[39;00m\u001b[38;5;124m\"\u001b[39m \u001b[38;5;241m%\u001b[39m\n\u001b[1;32m   1232\u001b[0m             \u001b[38;5;28mself\u001b[39m\u001b[38;5;241m.\u001b[39m\u001b[38;5;18m__class__\u001b[39m)\n\u001b[0;32m-> 1233\u001b[0m     \u001b[38;5;28;01mreturn\u001b[39;00m \u001b[38;5;28;43mself\u001b[39;49m\u001b[38;5;241;43m.\u001b[39;49m\u001b[43mread\u001b[49m\u001b[43m(\u001b[49m\u001b[43mbuflen\u001b[49m\u001b[43m)\u001b[49m\n\u001b[1;32m   1234\u001b[0m \u001b[38;5;28;01melse\u001b[39;00m:\n\u001b[1;32m   1235\u001b[0m     \u001b[38;5;28;01mreturn\u001b[39;00m \u001b[38;5;28msuper\u001b[39m()\u001b[38;5;241m.\u001b[39mrecv(buflen, flags)\n",
      "File \u001b[0;32m/Library/Frameworks/Python.framework/Versions/3.12/lib/python3.12/ssl.py:1106\u001b[0m, in \u001b[0;36mSSLSocket.read\u001b[0;34m(self, len, buffer)\u001b[0m\n\u001b[1;32m   1104\u001b[0m         \u001b[38;5;28;01mreturn\u001b[39;00m \u001b[38;5;28mself\u001b[39m\u001b[38;5;241m.\u001b[39m_sslobj\u001b[38;5;241m.\u001b[39mread(\u001b[38;5;28mlen\u001b[39m, buffer)\n\u001b[1;32m   1105\u001b[0m     \u001b[38;5;28;01melse\u001b[39;00m:\n\u001b[0;32m-> 1106\u001b[0m         \u001b[38;5;28;01mreturn\u001b[39;00m \u001b[38;5;28;43mself\u001b[39;49m\u001b[38;5;241;43m.\u001b[39;49m\u001b[43m_sslobj\u001b[49m\u001b[38;5;241;43m.\u001b[39;49m\u001b[43mread\u001b[49m\u001b[43m(\u001b[49m\u001b[38;5;28;43mlen\u001b[39;49m\u001b[43m)\u001b[49m\n\u001b[1;32m   1107\u001b[0m \u001b[38;5;28;01mexcept\u001b[39;00m SSLError \u001b[38;5;28;01mas\u001b[39;00m x:\n\u001b[1;32m   1108\u001b[0m     \u001b[38;5;28;01mif\u001b[39;00m x\u001b[38;5;241m.\u001b[39margs[\u001b[38;5;241m0\u001b[39m] \u001b[38;5;241m==\u001b[39m SSL_ERROR_EOF \u001b[38;5;129;01mand\u001b[39;00m \u001b[38;5;28mself\u001b[39m\u001b[38;5;241m.\u001b[39msuppress_ragged_eofs:\n",
      "\u001b[0;31mKeyboardInterrupt\u001b[0m: "
     ]
    }
   ],
   "source": [
    "#9. Find all users who have invalid activities, and the number of invalid activities per user\n",
    "\n",
    "cursor.execute(\"\"\"\n",
    "    SELECT A.user_id, COUNT(DISTINCT A.id) AS invalid_activities\n",
    "    FROM Activity A\n",
    "    JOIN (\n",
    "        SELECT activity_id, \n",
    "               TIMESTAMPDIFF(SECOND, LAG(date_time) OVER (PARTITION BY activity_id ORDER BY date_time), date_time) AS time_diff\n",
    "        FROM TrackPoint\n",
    "    ) TP ON A.id = TP.activity_id\n",
    "    WHERE TP.time_diff > 300\n",
    "    GROUP BY A.user_id\n",
    "\"\"\")\n",
    "invalid_activities_per_user = cursor.fetchall()\n",
    "\n",
    "print(\"Users with invalid activities and the number of invalid activities:\")\n",
    "for user in invalid_activities_per_user:\n",
    "    print(f\"User ID: {user[0]}, Invalid Activities: {user[1]}\")\n"
   ]
  },
  {
   "cell_type": "code",
   "execution_count": 59,
   "metadata": {},
   "outputs": [
    {
     "ename": "KeyboardInterrupt",
     "evalue": "",
     "output_type": "error",
     "traceback": [
      "\u001b[0;31m---------------------------------------------------------------------------\u001b[0m",
      "\u001b[0;31mKeyboardInterrupt\u001b[0m                         Traceback (most recent call last)",
      "Cell \u001b[0;32mIn[59], line 1\u001b[0m\n\u001b[0;32m----> 1\u001b[0m \u001b[43mcursor\u001b[49m\u001b[38;5;241;43m.\u001b[39;49m\u001b[43mexecute\u001b[49m\u001b[43m(\u001b[49m\u001b[38;5;124;43m\"\"\"\u001b[39;49m\n\u001b[1;32m      2\u001b[0m \u001b[38;5;124;43m    SELECT DISTINCT user_id\u001b[39;49m\n\u001b[1;32m      3\u001b[0m \u001b[38;5;124;43m    FROM Activity\u001b[39;49m\n\u001b[1;32m      4\u001b[0m \u001b[38;5;124;43m    JOIN Activity ON TrackPoint.activity_id = Activity.id\u001b[39;49m\n\u001b[1;32m      5\u001b[0m \u001b[38;5;124;43m    WHERE ABS(TrackPoint.lat - 39.916) < 0.001 \u001b[39;49m\n\u001b[1;32m      6\u001b[0m \u001b[38;5;124;43m      AND ABS(TrackPoint.lon - 116.397) < 0.001\u001b[39;49m\n\u001b[1;32m      7\u001b[0m \u001b[38;5;124;43m\"\"\"\u001b[39;49m\u001b[43m)\u001b[49m\n\u001b[1;32m      8\u001b[0m forbidden_city_users \u001b[38;5;241m=\u001b[39m cursor\u001b[38;5;241m.\u001b[39mfetchall()\n\u001b[1;32m     10\u001b[0m \u001b[38;5;28mprint\u001b[39m(\u001b[38;5;124m\"\u001b[39m\u001b[38;5;124mUsers who have tracked an activity in the Forbidden City:\u001b[39m\u001b[38;5;124m\"\u001b[39m)\n",
      "File \u001b[0;32m/Library/Frameworks/Python.framework/Versions/3.12/lib/python3.12/site-packages/mysql/connector/cursor.py:615\u001b[0m, in \u001b[0;36mMySQLCursor.execute\u001b[0;34m(self, operation, params, multi)\u001b[0m\n\u001b[1;32m    612\u001b[0m     \u001b[38;5;28;01mreturn\u001b[39;00m \u001b[38;5;28mself\u001b[39m\u001b[38;5;241m.\u001b[39m_execute_iter(\u001b[38;5;28mself\u001b[39m\u001b[38;5;241m.\u001b[39m_connection\u001b[38;5;241m.\u001b[39mcmd_query_iter(stmt))\n\u001b[1;32m    614\u001b[0m \u001b[38;5;28;01mtry\u001b[39;00m:\n\u001b[0;32m--> 615\u001b[0m     \u001b[38;5;28mself\u001b[39m\u001b[38;5;241m.\u001b[39m_handle_result(\u001b[38;5;28;43mself\u001b[39;49m\u001b[38;5;241;43m.\u001b[39;49m\u001b[43m_connection\u001b[49m\u001b[38;5;241;43m.\u001b[39;49m\u001b[43mcmd_query\u001b[49m\u001b[43m(\u001b[49m\u001b[43mstmt\u001b[49m\u001b[43m)\u001b[49m)\n\u001b[1;32m    616\u001b[0m \u001b[38;5;28;01mexcept\u001b[39;00m InterfaceError \u001b[38;5;28;01mas\u001b[39;00m err:\n\u001b[1;32m    617\u001b[0m     \u001b[38;5;28;01mif\u001b[39;00m \u001b[38;5;28mself\u001b[39m\u001b[38;5;241m.\u001b[39m_connection\u001b[38;5;241m.\u001b[39mhave_next_result:\n",
      "File \u001b[0;32m/Library/Frameworks/Python.framework/Versions/3.12/lib/python3.12/site-packages/mysql/connector/connection.py:1046\u001b[0m, in \u001b[0;36mMySQLConnection.cmd_query\u001b[0;34m(self, query, raw, buffered, raw_as_string)\u001b[0m\n\u001b[1;32m   1044\u001b[0m query \u001b[38;5;241m=\u001b[39m \u001b[38;5;28mbytes\u001b[39m(packet)\n\u001b[1;32m   1045\u001b[0m \u001b[38;5;28;01mtry\u001b[39;00m:\n\u001b[0;32m-> 1046\u001b[0m     result \u001b[38;5;241m=\u001b[39m \u001b[38;5;28mself\u001b[39m\u001b[38;5;241m.\u001b[39m_handle_result(\u001b[38;5;28;43mself\u001b[39;49m\u001b[38;5;241;43m.\u001b[39;49m\u001b[43m_send_cmd\u001b[49m\u001b[43m(\u001b[49m\u001b[43mServerCmd\u001b[49m\u001b[38;5;241;43m.\u001b[39;49m\u001b[43mQUERY\u001b[49m\u001b[43m,\u001b[49m\u001b[43m \u001b[49m\u001b[43mquery\u001b[49m\u001b[43m)\u001b[49m)\n\u001b[1;32m   1047\u001b[0m \u001b[38;5;28;01mexcept\u001b[39;00m ProgrammingError \u001b[38;5;28;01mas\u001b[39;00m err:\n\u001b[1;32m   1048\u001b[0m     \u001b[38;5;28;01mif\u001b[39;00m err\u001b[38;5;241m.\u001b[39merrno \u001b[38;5;241m==\u001b[39m \u001b[38;5;241m3948\u001b[39m \u001b[38;5;129;01mand\u001b[39;00m \u001b[38;5;124m\"\u001b[39m\u001b[38;5;124mLoading local data is disabled\u001b[39m\u001b[38;5;124m\"\u001b[39m \u001b[38;5;129;01min\u001b[39;00m err\u001b[38;5;241m.\u001b[39mmsg:\n",
      "File \u001b[0;32m/Library/Frameworks/Python.framework/Versions/3.12/lib/python3.12/site-packages/mysql/connector/connection.py:667\u001b[0m, in \u001b[0;36mMySQLConnection._send_cmd\u001b[0;34m(self, command, argument, packet_number, packet, expect_response, compressed_packet_number)\u001b[0m\n\u001b[1;32m    665\u001b[0m \u001b[38;5;28;01mif\u001b[39;00m \u001b[38;5;129;01mnot\u001b[39;00m expect_response:\n\u001b[1;32m    666\u001b[0m     \u001b[38;5;28;01mreturn\u001b[39;00m \u001b[38;5;28;01mNone\u001b[39;00m\n\u001b[0;32m--> 667\u001b[0m \u001b[38;5;28;01mreturn\u001b[39;00m \u001b[38;5;28;43mself\u001b[39;49m\u001b[38;5;241;43m.\u001b[39;49m\u001b[43m_socket\u001b[49m\u001b[38;5;241;43m.\u001b[39;49m\u001b[43mrecv\u001b[49m\u001b[43m(\u001b[49m\u001b[43m)\u001b[49m\n",
      "File \u001b[0;32m/Library/Frameworks/Python.framework/Versions/3.12/lib/python3.12/site-packages/mysql/connector/network.py:270\u001b[0m, in \u001b[0;36mBaseMySQLSocket.recv_plain\u001b[0;34m(self)\u001b[0m\n\u001b[1;32m    268\u001b[0m packet_len \u001b[38;5;241m=\u001b[39m \u001b[38;5;241m0\u001b[39m\n\u001b[1;32m    269\u001b[0m \u001b[38;5;28;01mwhile\u001b[39;00m packet_len \u001b[38;5;241m<\u001b[39m \u001b[38;5;241m4\u001b[39m:\n\u001b[0;32m--> 270\u001b[0m     chunk \u001b[38;5;241m=\u001b[39m \u001b[38;5;28;43mself\u001b[39;49m\u001b[38;5;241;43m.\u001b[39;49m\u001b[43msock\u001b[49m\u001b[38;5;241;43m.\u001b[39;49m\u001b[43mrecv\u001b[49m\u001b[43m(\u001b[49m\u001b[38;5;241;43m4\u001b[39;49m\u001b[43m \u001b[49m\u001b[38;5;241;43m-\u001b[39;49m\u001b[43m \u001b[49m\u001b[43mpacket_len\u001b[49m\u001b[43m)\u001b[49m\n\u001b[1;32m    271\u001b[0m     \u001b[38;5;28;01mif\u001b[39;00m \u001b[38;5;129;01mnot\u001b[39;00m chunk:\n\u001b[1;32m    272\u001b[0m         \u001b[38;5;28;01mraise\u001b[39;00m InterfaceError(errno\u001b[38;5;241m=\u001b[39m\u001b[38;5;241m2013\u001b[39m)\n",
      "File \u001b[0;32m/Library/Frameworks/Python.framework/Versions/3.12/lib/python3.12/ssl.py:1233\u001b[0m, in \u001b[0;36mSSLSocket.recv\u001b[0;34m(self, buflen, flags)\u001b[0m\n\u001b[1;32m   1229\u001b[0m     \u001b[38;5;28;01mif\u001b[39;00m flags \u001b[38;5;241m!=\u001b[39m \u001b[38;5;241m0\u001b[39m:\n\u001b[1;32m   1230\u001b[0m         \u001b[38;5;28;01mraise\u001b[39;00m \u001b[38;5;167;01mValueError\u001b[39;00m(\n\u001b[1;32m   1231\u001b[0m             \u001b[38;5;124m\"\u001b[39m\u001b[38;5;124mnon-zero flags not allowed in calls to recv() on \u001b[39m\u001b[38;5;132;01m%s\u001b[39;00m\u001b[38;5;124m\"\u001b[39m \u001b[38;5;241m%\u001b[39m\n\u001b[1;32m   1232\u001b[0m             \u001b[38;5;28mself\u001b[39m\u001b[38;5;241m.\u001b[39m\u001b[38;5;18m__class__\u001b[39m)\n\u001b[0;32m-> 1233\u001b[0m     \u001b[38;5;28;01mreturn\u001b[39;00m \u001b[38;5;28;43mself\u001b[39;49m\u001b[38;5;241;43m.\u001b[39;49m\u001b[43mread\u001b[49m\u001b[43m(\u001b[49m\u001b[43mbuflen\u001b[49m\u001b[43m)\u001b[49m\n\u001b[1;32m   1234\u001b[0m \u001b[38;5;28;01melse\u001b[39;00m:\n\u001b[1;32m   1235\u001b[0m     \u001b[38;5;28;01mreturn\u001b[39;00m \u001b[38;5;28msuper\u001b[39m()\u001b[38;5;241m.\u001b[39mrecv(buflen, flags)\n",
      "File \u001b[0;32m/Library/Frameworks/Python.framework/Versions/3.12/lib/python3.12/ssl.py:1106\u001b[0m, in \u001b[0;36mSSLSocket.read\u001b[0;34m(self, len, buffer)\u001b[0m\n\u001b[1;32m   1104\u001b[0m         \u001b[38;5;28;01mreturn\u001b[39;00m \u001b[38;5;28mself\u001b[39m\u001b[38;5;241m.\u001b[39m_sslobj\u001b[38;5;241m.\u001b[39mread(\u001b[38;5;28mlen\u001b[39m, buffer)\n\u001b[1;32m   1105\u001b[0m     \u001b[38;5;28;01melse\u001b[39;00m:\n\u001b[0;32m-> 1106\u001b[0m         \u001b[38;5;28;01mreturn\u001b[39;00m \u001b[38;5;28;43mself\u001b[39;49m\u001b[38;5;241;43m.\u001b[39;49m\u001b[43m_sslobj\u001b[49m\u001b[38;5;241;43m.\u001b[39;49m\u001b[43mread\u001b[49m\u001b[43m(\u001b[49m\u001b[38;5;28;43mlen\u001b[39;49m\u001b[43m)\u001b[49m\n\u001b[1;32m   1107\u001b[0m \u001b[38;5;28;01mexcept\u001b[39;00m SSLError \u001b[38;5;28;01mas\u001b[39;00m x:\n\u001b[1;32m   1108\u001b[0m     \u001b[38;5;28;01mif\u001b[39;00m x\u001b[38;5;241m.\u001b[39margs[\u001b[38;5;241m0\u001b[39m] \u001b[38;5;241m==\u001b[39m SSL_ERROR_EOF \u001b[38;5;129;01mand\u001b[39;00m \u001b[38;5;28mself\u001b[39m\u001b[38;5;241m.\u001b[39msuppress_ragged_eofs:\n",
      "\u001b[0;31mKeyboardInterrupt\u001b[0m: "
     ]
    }
   ],
   "source": [
    "cursor.execute(\"\"\"\n",
    "    SELECT DISTINCT user_id\n",
    "    FROM Activity\n",
    "    JOIN Activity ON TrackPoint.activity_id = Activity.id\n",
    "    WHERE ABS(TrackPoint.lat - 39.916) < 0.001 \n",
    "      AND ABS(TrackPoint.lon - 116.397) < 0.001\n",
    "\"\"\")\n",
    "forbidden_city_users = cursor.fetchall()\n",
    "\n",
    "print(\"Users who have tracked an activity in the Forbidden City:\")\n",
    "for user in forbidden_city_users:\n",
    "    print(f\"User ID: {user[0]}\")\n"
   ]
  }
 ],
 "metadata": {
  "kernelspec": {
   "display_name": "Python 3",
   "language": "python",
   "name": "python3"
  },
  "language_info": {
   "codemirror_mode": {
    "name": "ipython",
    "version": 3
   },
   "file_extension": ".py",
   "mimetype": "text/x-python",
   "name": "python",
   "nbconvert_exporter": "python",
   "pygments_lexer": "ipython3",
   "version": "3.12.2"
  }
 },
 "nbformat": 4,
 "nbformat_minor": 2
}
