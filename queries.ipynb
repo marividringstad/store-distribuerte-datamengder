{
 "cells": [
  {
   "cell_type": "code",
   "execution_count": 7,
   "metadata": {},
   "outputs": [
    {
     "name": "stdout",
     "output_type": "stream",
     "text": [
      "Users: 182, Activities: 16048, Trackpoints: 9681756\n"
     ]
    }
   ],
   "source": [
    "#1. How many users, activities and trackpoints are there in the dataset (after it is inserted into the database).\n",
    "\n",
    "from DbConnector import DbConnector\n",
    "db = DbConnector() \n",
    "cursor = db.cursor\n",
    "\n",
    "cursor.execute(\"SELECT COUNT(*) FROM User\")\n",
    "num_users = cursor.fetchone()[0]\n",
    "\n",
    "cursor.execute(\"SELECT COUNT(*) FROM Activity\")\n",
    "num_activities = cursor.fetchone()[0]\n",
    "\n",
    "cursor.execute(\"SELECT COUNT(*) FROM TrackPoint\")\n",
    "num_trackpoints = cursor.fetchone()[0]\n",
    "\n",
    "print(f\"Users: {num_users}, Activities: {num_activities}, Trackpoints: {num_trackpoints}\")"
   ]
  },
  {
   "cell_type": "code",
   "execution_count": 10,
   "metadata": {},
   "outputs": [
    {
     "name": "stdout",
     "output_type": "stream",
     "text": [
      "Average number of activities per user: 92.7630\n"
     ]
    }
   ],
   "source": [
    "\n",
    "#2. Find the average number of activities per user.\n",
    "\n",
    "from DbConnector import DbConnector\n",
    "db = DbConnector() \n",
    "cursor = db.cursor\n",
    "\n",
    "cursor.execute(\"SELECT AVG(activity_count) FROM (SELECT COUNT(*) as activity_count FROM Activity GROUP BY user_id) as temp\")\n",
    "average_activities = cursor.fetchone()[0]\n",
    "\n",
    "print(f\"Average number of activities per user: {average_activities}\")\n",
    "\n"
   ]
  },
  {
   "cell_type": "code",
   "execution_count": 11,
   "metadata": {},
   "outputs": [
    {
     "name": "stdout",
     "output_type": "stream",
     "text": [
      "User ID: 128, Activity Count: 2102\n",
      "User ID: 153, Activity Count: 1793\n",
      "User ID: 25, Activity Count: 715\n",
      "User ID: 163, Activity Count: 704\n",
      "User ID: 62, Activity Count: 691\n",
      "User ID: 144, Activity Count: 563\n",
      "User ID: 41, Activity Count: 399\n",
      "User ID: 85, Activity Count: 364\n",
      "User ID: 4, Activity Count: 346\n",
      "User ID: 140, Activity Count: 345\n",
      "User ID: 167, Activity Count: 320\n",
      "User ID: 68, Activity Count: 280\n",
      "User ID: 17, Activity Count: 265\n",
      "User ID: 3, Activity Count: 261\n",
      "User ID: 14, Activity Count: 236\n",
      "User ID: 126, Activity Count: 215\n",
      "User ID: 30, Activity Count: 210\n",
      "User ID: 112, Activity Count: 208\n",
      "User ID: 11, Activity Count: 201\n",
      "User ID: 39, Activity Count: 198\n"
     ]
    }
   ],
   "source": [
    "#3. Find the top 20 users with the highest number of activities. \n",
    "\n",
    "cursor.execute(\"\"\"\n",
    "    SELECT user_id, COUNT(*) as activity_count\n",
    "    FROM Activity\n",
    "    GROUP BY user_id\n",
    "    ORDER BY activity_count DESC\n",
    "    LIMIT 20\n",
    "\"\"\")\n",
    "top_users = cursor.fetchall()\n",
    "\n",
    "for user in top_users:\n",
    "    print(f\"User ID: {user[0]}, Activity Count: {user[1]}\")"
   ]
  },
  {
   "cell_type": "code",
   "execution_count": 12,
   "metadata": {},
   "outputs": [
    {
     "name": "stdout",
     "output_type": "stream",
     "text": [
      "Users who have taken a taxi:\n",
      "10\n",
      "111\n",
      "114\n",
      "126\n",
      "128\n",
      "139\n",
      "153\n",
      "163\n",
      "167\n",
      "175\n",
      "21\n",
      "52\n",
      "56\n",
      "58\n",
      "62\n",
      "65\n",
      "78\n",
      "80\n",
      "84\n",
      "85\n",
      "98\n"
     ]
    }
   ],
   "source": [
    "#4. Find all users who have taken a taxi. \n",
    "\n",
    "cursor.execute(\"\"\"\n",
    "    SELECT DISTINCT user_id\n",
    "    FROM Activity\n",
    "    WHERE transportation_mode = 'taxi'\n",
    "\"\"\")\n",
    "taxi_users = cursor.fetchall()\n",
    "\n",
    "print(\"Users who have taken a taxi:\")\n",
    "for user in taxi_users:\n",
    "    print(user[0])"
   ]
  },
  {
   "cell_type": "code",
   "execution_count": 13,
   "metadata": {},
   "outputs": [
    {
     "name": "stdout",
     "output_type": "stream",
     "text": [
      "taxi: 125 activities\n",
      "walk: 1008 activities\n",
      "bus: 471 activities\n",
      "bike: 619 activities\n",
      "car: 493 activities\n",
      "run: 1 activities\n",
      "train: 2 activities\n",
      "subway: 190 activities\n",
      "airplane: 4 activities\n",
      "boat: 1 activities\n"
     ]
    }
   ],
   "source": [
    "#5. Find all types of transportation modes and count how many activities that are tagged with these transportation mode labels. Do not count the rows where the mode is null.\n",
    "cursor.execute(\"\"\"\n",
    "    SELECT transportation_mode, COUNT(*)\n",
    "    FROM Activity\n",
    "    WHERE transportation_mode IS NOT NULL\n",
    "    GROUP BY transportation_mode\n",
    "\"\"\")\n",
    "modes_count = cursor.fetchall()\n",
    "\n",
    "for mode, count in modes_count:\n",
    "    print(f\"{mode}: {count} activities\")"
   ]
  },
  {
   "cell_type": "code",
   "execution_count": 15,
   "metadata": {},
   "outputs": [
    {
     "name": "stdout",
     "output_type": "stream",
     "text": [
      "Year with the most activities: 2008 with 5895 activities\n"
     ]
    }
   ],
   "source": [
    "#6. a) Find the year with the most activities. \n",
    "\n",
    "cursor.execute(\"\"\"\n",
    "    SELECT YEAR(start_date_time) as year, COUNT(*) as activity_count\n",
    "    FROM Activity\n",
    "    GROUP BY year\n",
    "    ORDER BY activity_count DESC\n",
    "    LIMIT 1\n",
    "\"\"\")\n",
    "most_activities_year = cursor.fetchone()\n",
    "\n",
    "print(f\"Year with the most activities: {most_activities_year[0]} with {most_activities_year[1]} activities\")"
   ]
  },
  {
   "cell_type": "code",
   "execution_count": 103,
   "metadata": {},
   "outputs": [
    {
     "name": "stdout",
     "output_type": "stream",
     "text": [
      "Year with the most recorded hours: 2009 with 11612.42 hours\n"
     ]
    }
   ],
   "source": [
    "#6 b) Is this also the year with most recorded hours?\n",
    "cursor.execute(\"\"\"\n",
    "    SELECT YEAR(start_date_time) as year, \n",
    "           SUM(TIMESTAMPDIFF(SECOND, start_date_time, end_date_time)) / 3600 AS total_hours\n",
    "    FROM Activity\n",
    "    GROUP BY year\n",
    "    ORDER BY total_hours DESC\n",
    "    LIMIT 1;\n",
    "\"\"\")\n",
    "most_hours_year = cursor.fetchone()\n",
    "\n",
    "print(f\"Year with the most recorded hours: {most_hours_year[0]} with {most_hours_year[1]:.2f} hours\")\n"
   ]
  },
  {
   "cell_type": "code",
   "execution_count": 104,
   "metadata": {},
   "outputs": [
    {
     "name": "stdout",
     "output_type": "stream",
     "text": [
      "Total distance walked by user 112 in 2008: 256.38282457874544 km\n"
     ]
    }
   ],
   "source": [
    "#7. Find the total distance (in km) walked in 2008, by user with id=112\n",
    "\n",
    "from DbConnector import DbConnector\n",
    "db = DbConnector() \n",
    "cursor = db.cursor\n",
    "\n",
    "from haversine import haversine, Unit\n",
    "\n",
    "cursor.execute(\"\"\"\n",
    "    SELECT id\n",
    "    FROM Activity\n",
    "    WHERE user_id = 112 AND YEAR(start_date_time) = 2008 AND transportation_mode = 'walk'\n",
    "\"\"\")\n",
    "activities = cursor.fetchall()\n",
    "\n",
    "total_distance = 0\n",
    "\n",
    "for activity in activities:\n",
    "    activity_id = activity[0]\n",
    "    \n",
    "    cursor.execute(\"\"\"\n",
    "        SELECT lat, lon\n",
    "        FROM TrackPoint\n",
    "        WHERE activity_id = %s\n",
    "        ORDER BY date_time\n",
    "    \"\"\", (activity_id,))\n",
    "    trackpoints = cursor.fetchall()\n",
    "    \n",
    "    activity_distance = 0\n",
    "    for i in range(1, len(trackpoints)):\n",
    "        lat1, lon1 = trackpoints[i - 1]\n",
    "        lat2, lon2 = trackpoints[i]\n",
    "        activity_distance += haversine((lat1, lon1), (lat2, lon2), unit=Unit.KILOMETERS)\n",
    "    \n",
    "    total_distance += activity_distance\n",
    "\n",
    "print(f\"Total distance walked by user 112 in 2008: {total_distance} km\")\n"
   ]
  },
  {
   "cell_type": "code",
   "execution_count": 106,
   "metadata": {},
   "outputs": [
    {
     "name": "stdout",
     "output_type": "stream",
     "text": [
      "   User ID  Total Altitude Gain (meters)\n",
      "0      128                   555588.2208\n",
      "1      153                   491810.0400\n",
      "2        4                   294319.4520\n",
      "3        3                   203890.4736\n",
      "4       85                   185603.3880\n",
      "5      163                   185340.6504\n",
      "6       30                   148108.1112\n",
      "7      144                   143911.9296\n",
      "8       39                   124493.1216\n",
      "9       62                   118092.9312\n",
      "10      41                   113247.5256\n",
      "11      84                   113236.5528\n",
      "12     167                   104664.9672\n",
      "13       0                   103207.4136\n",
      "14       2                   101600.5080\n",
      "15      25                    82172.5560\n",
      "16     126                    74829.6192\n",
      "17     140                    68096.5872\n",
      "18      17                    54443.9856\n",
      "19      22                    52231.1376\n"
     ]
    }
   ],
   "source": [
    "#8. Find the top 20 users who have gained the most altitude meters.\n",
    "from DbConnector import DbConnector\n",
    "db = DbConnector() \n",
    "cursor = db.cursor\n",
    "import pandas as pd\n",
    "import tabulate\n",
    "\n",
    "\n",
    "cursor.execute(\"\"\"\n",
    "    SELECT user_id, SUM(altitude_gain) as total_gain\n",
    "    FROM (\n",
    "        SELECT user_id, GREATEST(0, altitude - LAG(altitude) OVER (PARTITION BY activity_id ORDER BY date_time)) as altitude_gain\n",
    "        FROM TrackPoint\n",
    "        JOIN Activity ON TrackPoint.activity_id = Activity.id\n",
    "        WHERE altitude >0\n",
    "    ) as temp\n",
    "    GROUP BY user_id\n",
    "    ORDER BY total_gain DESC\n",
    "    LIMIT 20\n",
    "\"\"\")\n",
    "altitude_users = cursor.fetchall()\n",
    "\n",
    "\n",
    "data = {\n",
    "    'User ID': [user[0] for user in altitude_users],\n",
    "    'Total Altitude Gain (meters)': [float(user[1]) * 0.3048 for user in altitude_users]  # Convert feet to meters\n",
    "}\n",
    "\n",
    "df = pd.DataFrame(data)\n",
    "\n",
    "print(df)\n"
   ]
  },
  {
   "cell_type": "code",
   "execution_count": 5,
   "metadata": {},
   "outputs": [
    {
     "name": "stdout",
     "output_type": "stream",
     "text": [
      "Top 20 Users with invalid activities and the number of invalid activities:\n",
      "User ID: 128, Invalid Activities: 720\n",
      "User ID: 153, Invalid Activities: 557\n",
      "User ID: 25, Invalid Activities: 263\n",
      "User ID: 62, Invalid Activities: 249\n",
      "User ID: 163, Invalid Activities: 233\n",
      "User ID: 4, Invalid Activities: 219\n",
      "User ID: 41, Invalid Activities: 201\n",
      "User ID: 85, Invalid Activities: 184\n",
      "User ID: 3, Invalid Activities: 179\n",
      "User ID: 144, Invalid Activities: 157\n",
      "User ID: 39, Invalid Activities: 147\n",
      "User ID: 68, Invalid Activities: 139\n",
      "User ID: 167, Invalid Activities: 134\n",
      "User ID: 17, Invalid Activities: 129\n",
      "User ID: 14, Invalid Activities: 118\n",
      "User ID: 30, Invalid Activities: 112\n",
      "User ID: 126, Invalid Activities: 105\n",
      "User ID: 0, Invalid Activities: 101\n",
      "User ID: 92, Invalid Activities: 101\n",
      "User ID: 37, Invalid Activities: 100\n",
      " Numbers of users with invalid activities are 171\n"
     ]
    }
   ],
   "source": [
    "#9. Find all users who have invalid activities and the number of invalid activities per user. \n",
    "\n",
    "from DbConnector import DbConnector\n",
    "db = DbConnector() \n",
    "cursor = db.cursor\n",
    "\n",
    "users_of_invalid_activies = []\n",
    "\n",
    "cursor.execute(\"\"\"\n",
    "    SELECT Activity.user_id, COUNT(DISTINCT temp.activity_id) as invalid_activities\n",
    "    FROM (\n",
    "        SELECT TrackPoint.activity_id, \n",
    "               TIMESTAMPDIFF(SECOND, \n",
    "                             LAG(TrackPoint.date_time) OVER (PARTITION BY TrackPoint.activity_id ORDER BY TrackPoint.date_time), \n",
    "                             TrackPoint.date_time) as time_diff\n",
    "        FROM TrackPoint\n",
    "    ) as temp\n",
    "    JOIN Activity ON Activity.id = temp.activity_id\n",
    "    WHERE temp.time_diff >= 300\n",
    "    GROUP BY Activity.user_id\n",
    "    ORDER BY invalid_activities DESC\n",
    "\"\"\")\n",
    "\n",
    "\n",
    "all_invalid_activities = cursor.fetchall()\n",
    "\n",
    "\n",
    "for user in all_invalid_activities:\n",
    "    users_of_invalid_activies.append(user[0])\n",
    "\n",
    "# Displaying only the top 20 users with the highest number of invalid activities\n",
    "print(\"Top 20 Users with invalid activities and the number of invalid activities:\")\n",
    "for user in all_invalid_activities[:20]:  # Slicing to get the top 20\n",
    "    print(f\"User ID: {user[0]}, Invalid Activities: {user[1]}\")\n",
    "\n",
    "#print(f\"Total number of users with invalid activities: {(users_of_invalid_activies)} \")\n",
    "print(f\" Numbers of users with invalid activities are {len(users_of_invalid_activies)}\")\n",
    "\n"
   ]
  },
  {
   "cell_type": "code",
   "execution_count": 91,
   "metadata": {},
   "outputs": [
    {
     "name": "stdout",
     "output_type": "stream",
     "text": [
      "Users who have tracked an activity in the Forbidden City:\n",
      "User ID: 131\n",
      "User ID: 18\n",
      "User ID: 19\n",
      "User ID: 4\n"
     ]
    }
   ],
   "source": [
    "#10.Find the users who have tracked an activity in the Forbidden City of Beijing.\n",
    "\n",
    "from DbConnector import DbConnector\n",
    "db = DbConnector() \n",
    "cursor = db.cursor\n",
    "\n",
    "cursor.execute(\"\"\"\n",
    "    SELECT DISTINCT user_id\n",
    "    FROM TrackPoint\n",
    "    JOIN Activity ON TrackPoint.activity_id = Activity.id\n",
    "    WHERE ABS(lat - 39.916) < 0.001 AND ABS(lon - 116.397) < 0.001\n",
    "\"\"\")\n",
    "forbidden_city_users = cursor.fetchall()\n",
    "\n",
    "print(\"Users who have tracked an activity in the Forbidden City:\")\n",
    "for user in forbidden_city_users:\n",
    "    print(f\"User ID: {user[0]}\")\n"
   ]
  },
  {
   "cell_type": "code",
   "execution_count": 109,
   "metadata": {},
   "outputs": [
    {
     "name": "stdout",
     "output_type": "stream",
     "text": [
      "Users and their most used transportation mode:\n",
      "User ID: 10, Most Used Mode: taxi\n",
      "User ID: 101, Most Used Mode: car\n",
      "User ID: 102, Most Used Mode: walk\n",
      "User ID: 105, Most Used Mode: walk\n",
      "User ID: 107, Most Used Mode: walk\n",
      "User ID: 108, Most Used Mode: walk\n",
      "User ID: 111, Most Used Mode: taxi\n",
      "User ID: 112, Most Used Mode: walk\n",
      "User ID: 114, Most Used Mode: taxi\n",
      "User ID: 115, Most Used Mode: car\n",
      "User ID: 117, Most Used Mode: walk\n",
      "User ID: 125, Most Used Mode: bike\n",
      "User ID: 126, Most Used Mode: walk\n",
      "User ID: 128, Most Used Mode: car\n",
      "User ID: 129, Most Used Mode: bike\n",
      "User ID: 136, Most Used Mode: walk\n",
      "User ID: 138, Most Used Mode: bike\n",
      "User ID: 139, Most Used Mode: bike\n",
      "User ID: 141, Most Used Mode: walk\n",
      "User ID: 144, Most Used Mode: walk\n",
      "User ID: 153, Most Used Mode: walk\n",
      "User ID: 161, Most Used Mode: walk\n",
      "User ID: 163, Most Used Mode: bike\n",
      "User ID: 167, Most Used Mode: bike\n",
      "User ID: 170, Most Used Mode: walk\n",
      "User ID: 175, Most Used Mode: bus\n",
      "User ID: 179, Most Used Mode: walk\n",
      "User ID: 20, Most Used Mode: bike\n",
      "User ID: 21, Most Used Mode: car\n",
      "User ID: 52, Most Used Mode: bus\n",
      "User ID: 53, Most Used Mode: walk\n",
      "User ID: 56, Most Used Mode: bike\n",
      "User ID: 58, Most Used Mode: walk\n",
      "User ID: 60, Most Used Mode: walk\n",
      "User ID: 62, Most Used Mode: walk\n",
      "User ID: 64, Most Used Mode: bike\n",
      "User ID: 65, Most Used Mode: bike\n",
      "User ID: 67, Most Used Mode: walk\n",
      "User ID: 68, Most Used Mode: bike\n",
      "User ID: 69, Most Used Mode: bike\n",
      "User ID: 73, Most Used Mode: walk\n",
      "User ID: 75, Most Used Mode: subway\n",
      "User ID: 76, Most Used Mode: car\n",
      "User ID: 78, Most Used Mode: walk\n",
      "User ID: 80, Most Used Mode: taxi\n",
      "User ID: 81, Most Used Mode: bike\n",
      "User ID: 82, Most Used Mode: walk\n",
      "User ID: 84, Most Used Mode: bus\n",
      "User ID: 85, Most Used Mode: walk\n",
      "User ID: 86, Most Used Mode: car\n",
      "User ID: 87, Most Used Mode: walk\n",
      "User ID: 89, Most Used Mode: car\n",
      "User ID: 91, Most Used Mode: walk\n",
      "User ID: 92, Most Used Mode: walk\n",
      "User ID: 96, Most Used Mode: bike\n",
      "User ID: 97, Most Used Mode: bike\n",
      "User ID: 98, Most Used Mode: taxi\n"
     ]
    }
   ],
   "source": [
    "\n",
    "#11.Find all users who have registered transportation_mode and their most used transportation_mode. \n",
    "\n",
    "cursor.execute(\"\"\"\n",
    "    SELECT user_id, transportation_mode\n",
    "    FROM (\n",
    "        SELECT user_id, transportation_mode, \n",
    "               ROW_NUMBER() OVER (PARTITION BY user_id ORDER BY COUNT(*) DESC, transportation_mode ASC) as rn\n",
    "        FROM Activity\n",
    "        WHERE transportation_mode IS NOT NULL\n",
    "        GROUP BY user_id, transportation_mode\n",
    "    ) as temp\n",
    "    WHERE rn = 1\n",
    "    ORDER BY user_id\n",
    "\"\"\")\n",
    "most_used_transport_mode = cursor.fetchall()\n",
    "\n",
    "print(\"Users and their most used transportation mode:\")\n",
    "for user in most_used_transport_mode:\n",
    "    print(f\"User ID: {user[0]}, Most Used Mode: {user[1]}\")\n"
   ]
  }
 ],
 "metadata": {
  "kernelspec": {
   "display_name": "Python 3",
   "language": "python",
   "name": "python3"
  },
  "language_info": {
   "codemirror_mode": {
    "name": "ipython",
    "version": 3
   },
   "file_extension": ".py",
   "mimetype": "text/x-python",
   "name": "python",
   "nbconvert_exporter": "python",
   "pygments_lexer": "ipython3",
   "version": "3.12.2"
  }
 },
 "nbformat": 4,
 "nbformat_minor": 2
}
